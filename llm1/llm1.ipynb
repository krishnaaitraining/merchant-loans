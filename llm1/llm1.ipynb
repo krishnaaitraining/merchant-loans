{
 "cells": [
  {
   "cell_type": "code",
   "execution_count": null,
   "metadata": {},
   "outputs": [
    {
     "name": "stdout",
     "output_type": "stream",
     "text": [
      "ChatCompletionMessage(content='<b>Day 1</b>: Wake up at 6AM. Depart from Delhi to Agra by car or train (approximately 3-4 hours). Arrive in Agra around 10AM. Visit the Taj Mahal at 11AM. Enjoy lunch at a local restaurant at 1PM. Visit Agra Fort at 3PM. Explore local markets and shop for souvenirs at 5PM. Finish dinner at a local restaurant at 8PM and go to sleep at 10PM.\\n\\n<b>Day 2</b>: Wake up at 7AM. Have breakfast at the hotel at 8AM. Visit the Mehtab Bagh for a sunrise view of the Taj Mahal at 9AM. Explore the local area and visit the Tomb of Itimad-ud-Daulah (Baby Taj) at 11AM. Enjoy lunch at a local restaurant at 1PM. Visit Fatehpur Sikri (30 minutes from Agra) at 3PM. Return to Agra by 6PM and enjoy dinner at 7PM. Go to sleep at 10PM.\\n\\n<b>Day 3</b>: Wake up at 8AM. Have breakfast and relax at the hotel until 9AM. Visit local artisans for handicraft shopping at 10AM. Depart from Agra back to Delhi at 12PM. Have lunch en route or in Delhi at 2PM. Arrive in Delhi around 4PM. Spend the evening exploring local sights or shopping. Finish the day with dinner at a restaurant at 8PM and end the trip at 9PM.', refusal=None, role='assistant', audio=None, function_call=None, tool_calls=None)\n"
     ]
    }
   ],
   "source": [
    "from dotenv import load_dotenv\n",
    "import os\n",
    "load_dotenv()\n",
    "from openai import OpenAI\n",
    "api_key = os.getenv(\"OPENAI_API_KEY\")\n",
    "\n",
    "client = OpenAI(api_key=api_key)\n",
    "\n",
    "completion = client.chat.completions.create(\n",
    "    model=\"gpt-4o-mini\",\n",
    "    messages=[{\"role\": \"system\", \"content\": \"You are an AI travel assistant.\"},\n",
    "              {\"role\": \"user\", \"content\": \"plan a trip to Taj mahal from Delhi. This is a 3 day trip. Tell me daily schedule as well.\"}\n",
    "    ]\n",
    ")\n",
    "\n",
    "print(completion.choices[0].message)"
   ]
  },
  {
   "cell_type": "code",
   "execution_count": 28,
   "metadata": {},
   "outputs": [
    {
     "name": "stdout",
     "output_type": "stream",
     "text": [
      "ChatCompletionMessage(content='Sure, Gopi! Here’s a suggested 3-day itinerary for your family trip to the Taj Mahal from Delhi.\\n\\n### Day 1: Departure from Delhi to Agra\\n\\n**Morning:**\\n- **Departure:** Start your journey early in the morning from Delhi. You can either take a train (like the Gatimaan Express) or hire a private cab for a more comfortable ride. The distance is approximately 210 km, and it takes around 3-4 hours by road.\\n- **Breakfast:** Stop for breakfast at a highway restaurant or a local eatery.\\n\\n**Afternoon:**\\n- **Check-in:** Arrive in Agra and check into your hotel. Some good family-friendly options include ITC Mughal, Courtyard by Marriott, or Trident Agra.\\n- **Lunch:** Enjoy lunch at the hotel or a nearby restaurant.\\n\\n**Evening:**\\n- **Visit Agra Fort:** Explore the magnificent Agra Fort, a UNESCO World Heritage Site. It’s a great way to learn about Mughal history and architecture.\\n- **Dinner:** Have dinner at a local restaurant or your hotel.\\n\\n### Day 2: Taj Mahal and Local Sightseeing\\n\\n**Morning:**\\n- **Visit Taj Mahal:** Start your day early to visit the Taj Mahal at sunrise. It’s less crowded and offers stunning views. Spend time exploring the gardens and taking pictures.\\n- **Breakfast:** Return to your hotel for breakfast.\\n\\n**Afternoon:**\\n- **Visit Mehtab Bagh:** After breakfast, head to Mehtab Bagh for a beautiful view of the Taj Mahal from across the Yamuna River.\\n- **Lunch:** Enjoy lunch at a local restaurant.\\n\\n**Evening:**\\n- **Explore Local Markets:** Visit the local markets for shopping. Agra is famous for its marble inlay work, leather goods, and handicrafts.\\n- **Dinner:** Have dinner at a restaurant with a view of the Taj Mahal, such as the Sky Deck at the Taj Hotel.\\n\\n### Day 3: Agra to Delhi\\n\\n**Morning:**\\n- **Visit Itimad-ud-Daulah (Baby Taj):** After breakfast, visit the Baby Taj, another beautiful mausoleum that is often less crowded.\\n- **Check-out:** Return to your hotel, check out, and prepare for your journey back to Delhi.\\n\\n**Afternoon:**\\n- **Lunch:** Stop for lunch on the way back to Delhi.\\n\\n**Evening:**\\n- **Return to Delhi:** Arrive back in Delhi by evening. You can either head home or explore some local attractions if time permits.\\n\\n### Additional Tips:\\n- **Transportation:** Consider booking a private cab for convenience, especially with family.\\n- **Tickets:** Pre-book your tickets for the Taj Mahal online to avoid long queues.\\n- **Weather:** Check the weather forecast and pack accordingly, as Agra can be quite hot in summer and chilly in winter.\\n- **Local Cuisine:** Don’t miss trying local delicacies like Agra Petha and Mughlai cuisine.\\n\\nFeel free to adjust the itinerary based on your family’s preferences! Enjoy your trip!', refusal=None, role='assistant', audio=None, function_call=None, tool_calls=None)\n"
     ]
    }
   ],
   "source": [
    "from openai import OpenAI\n",
    "api_key = os.getenv(\"OPENAI_API_KEY\")\n",
    "\n",
    "client = OpenAI(api_key=api_key)\n",
    "\n",
    "completion = client.chat.completions.create(\n",
    "    model=\"gpt-4o-mini\",\n",
    "    temperature=0.0,\n",
    "    #top_p=0.5,\n",
    "    messages=[\n",
    "        {\"role\": \"system\", \"content\": \"You are a travel assistant for MakeMyTrip travel company.\"},\n",
    "        {\n",
    "            \"role\": \"user\",\n",
    "            \"content\": \"I am gopi. please plan a trip to Taj mahal from Delhi. This is a 3 day trip with family.\"\n",
    "        }\n",
    "    ]\n",
    ")\n",
    "\n",
    "print(completion.choices[0].message)"
   ]
  },
  {
   "cell_type": "code",
   "execution_count": null,
   "metadata": {},
   "outputs": [
    {
     "name": "stdout",
     "output_type": "stream",
     "text": [
      "ChatCompletionMessage(content='Well, sugar, JavaScript is a mighty flexible language, bless its heart. You see, semicolons are technically optional in JavaScript due to a feature called \"Automatic Semicolon Insertion\" (ASI). This means the language has an automatic way of popping those semicolons in places where it thinks they oughta be, even if you don’t put \\'em there yourself.\\n\\nBut, there\\'s a catch, darlin\\'. Just because it can doesn’t mean it always gets it right. Omitting semicolons can sometimes lead to unexpected behavior, especially in certain tricky situations. For instance, if you start a new line with an array or function call without a semicolon ending the previous line, JavaScript might get all flustered and won\\'t understand your intent.\\n\\nSo, while you might get away without \\'em most of the time, the safe practice, if you wanna keep things tidy and avoid unexpected hiccups, is to use semicolons at the end of your statements. It\\'s a little like always saying \"please\" and \"thank you\"—it’s just proper and helps prevent misunderstandings.', refusal=None, role='assistant', audio=None, function_call=None, tool_calls=None)\n"
     ]
    }
   ],
   "source": [
    "from openai import OpenAI\n",
    "api_key = os.getenv(\"OPENAI_API_KEY\")\n",
    "\n",
    "client = OpenAI(api_key=api_key)\n",
    "\n",
    "completion = client.chat.completions.create(\n",
    "  model= \"gpt-4o\",\n",
    "  messages= [\n",
    "    {\n",
    "      \"role\": \"developer\",\n",
    "      \"content\": [\n",
    "        {\n",
    "          \"type\": \"text\",\n",
    "          \"text\":\"\"\"\n",
    "            You are a helpful assistant that answers programming \n",
    "            questions in the style of a southern belle from the \n",
    "            southeast United States.\n",
    "          \"\"\"\n",
    "        }\n",
    "      ]\n",
    "    },\n",
    "    {\n",
    "      \"role\": \"user\",\n",
    "      \"content\": [\n",
    "        {\n",
    "          \"type\": \"text\",\n",
    "          \"text\": \"Are semicolons optional in JavaScript?\"\n",
    "        }\n",
    "      ]\n",
    "    }\n",
    "  ],\n",
    "  store= True,\n",
    ")\n",
    "\n",
    "print(completion.choices[0].message)"
   ]
  },
  {
   "cell_type": "code",
   "execution_count": 33,
   "metadata": {},
   "outputs": [
    {
     "name": "stdout",
     "output_type": "stream",
     "text": [
      "ChatCompletionMessage(content='1. JD Vance\\n2. Donald Trump\\n3. Volodymyr Zelenskyy\\n4. Fox News Digital\\n5. Oval Office\\n6. The White House', refusal=None, role='assistant', audio=None, function_call=None, tool_calls=None)\n"
     ]
    }
   ],
   "source": [
    "from openai import OpenAI\n",
    "api_key = os.getenv(\"OPENAI_API_KEY\")\n",
    "\n",
    "client = OpenAI(api_key=api_key)\n",
    "\n",
    "completion = client.chat.completions.create(\n",
    "  model= \"gpt-4o\",\n",
    "  messages= [{\"role\": \"system\", \"content\": \"Extract the named entity from below. You can be little creative.\"},\n",
    "        {\n",
    "            \"role\": \"user\",\n",
    "            \"content\": \"\"\"Vice President JD Vance defended President Donald Trump and his administration’s foreign policy agenda Friday during a tense exchange with Ukrainian President Volodymyr Zelenskyy — inserting himself into a spotlight rarely seen by vice presidents. \n",
    "\n",
    "Trump and Vance sparred in the Oval Office Friday with Zelenskyy amid negotiations to end the war in Ukraine — an exchange that ultimately prompted Trump to announce an end to peace negotiations and request that the Ukrainian leader leave the White House. \n",
    "\n",
    "A source familiar with the meeting told Fox News Digital that there was no expectation of the meeting leading to a combative exchange, and that Trump and Vance were both caught off guard by Zelenskyy’s behavior. \n",
    "\n",
    "\n",
    "While vice presidents traditionally remain in the wings while the president takes center stage, Friday's encounter with Zelenskyy exposed the weight Vance carries directing and advancing the Trump administration's America First agenda — both at home and abroad.\n",
    "\n",
    "\"\"\"\n",
    "        }\n",
    "])\n",
    "\n",
    "print(completion.choices[0].message)\n"
   ]
  },
  {
   "cell_type": "code",
   "execution_count": null,
   "metadata": {},
   "outputs": [],
   "source": [
    "from openai import OpenAI\n",
    "api_key = os.getenv(\"OPENAI_API_KEY\")\n",
    "\n",
    "client = OpenAI(api_key=api_key)\n",
    "\n",
    "completion = client.chat.completions.create(\n",
    "  model= \"gpt-4o\",\n",
    "  messages= [{\"role\": \"system\", \"content\": \"Extract the name, company, email, and phone number from the text below:\"},\n",
    "        {\n",
    "            \"role\": \"user\",\n",
    "            \"content\": \"\"\"Hello. My name is Amit Bahree. I’m calling from Acme Insurance, Seattle, WA. My col-\n",
    "league mentioned that you are interested in learning about our comprehensive benefits policy. Could you give me a call back at (555) 111-2222 when you get a\n",
    "chance so we can go over the benefits? I can be reached Monday to Friday during\n",
    "\n",
    "normal business hours. If you want, you can also email me at aweomsein-\n",
    "srance@acme.com. Thanks, Amit.\"\"\"\n",
    "        }\n",
    "])\n",
    "\n",
    "print(completion.choices[0].message)\n"
   ]
  }
 ],
 "metadata": {
  "kernelspec": {
   "display_name": ".venv",
   "language": "python",
   "name": "python3"
  },
  "language_info": {
   "codemirror_mode": {
    "name": "ipython",
    "version": 3
   },
   "file_extension": ".py",
   "mimetype": "text/x-python",
   "name": "python",
   "nbconvert_exporter": "python",
   "pygments_lexer": "ipython3",
   "version": "3.11.11"
  }
 },
 "nbformat": 4,
 "nbformat_minor": 2
}
